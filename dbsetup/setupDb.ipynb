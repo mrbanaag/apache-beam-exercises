{
 "cells": [
  {
   "cell_type": "code",
   "execution_count": 1,
   "metadata": {},
   "outputs": [],
   "source": [
    "import psycopg2"
   ]
  },
  {
   "cell_type": "code",
   "execution_count": 2,
   "metadata": {},
   "outputs": [],
   "source": [
    "conn = psycopg2.connect(\n",
    "    host = 'localhost',\n",
    "    dbname = 'beam_practice',\n",
    "    user = 'postgres',\n",
    "    password = 'password',\n",
    "    port = 54320\n",
    ")\n",
    "conn.autocommit = True"
   ]
  },
  {
   "cell_type": "code",
   "execution_count": 3,
   "metadata": {},
   "outputs": [
    {
     "name": "stdout",
     "output_type": "stream",
     "text": [
      "Connected to database: beam_practice\n",
      "Host: localhost\n",
      "User: postgres\n"
     ]
    }
   ],
   "source": [
    "print(\"Connected to database:\", conn.get_dsn_parameters()['dbname'])\n",
    "print(\"Host:\", conn.get_dsn_parameters()['host'])\n",
    "print(\"User:\", conn.get_dsn_parameters()['user'])"
   ]
  },
  {
   "cell_type": "code",
   "execution_count": 4,
   "metadata": {},
   "outputs": [
    {
     "name": "stdout",
     "output_type": "stream",
     "text": [
      "Current database in Python: beam_practice\n"
     ]
    }
   ],
   "source": [
    "cursor = conn.cursor()\n",
    "cursor.execute(\"SELECT current_database();\")\n",
    "current_db = cursor.fetchone()[0]\n",
    "print(\"Current database in Python:\", current_db)"
   ]
  },
  {
   "cell_type": "code",
   "execution_count": 5,
   "metadata": {},
   "outputs": [],
   "source": [
    "fd = open(\"sqlScripts/createDb.sql\", \"r\")\n",
    "sqlFile = fd.read()\n",
    "fd.close()"
   ]
  },
  {
   "cell_type": "code",
   "execution_count": 6,
   "metadata": {},
   "outputs": [],
   "source": [
    "sqlCommands = sqlFile.split(\";\")"
   ]
  },
  {
   "cell_type": "markdown",
   "metadata": {},
   "source": [
    "### Run the following command in the terminal\n",
    "\n",
    "cd .devcontainer\n",
    "docker-compose cp ../dbsetup/dataset db:/var/lib/postgresql/data/pgdata"
   ]
  },
  {
   "cell_type": "code",
   "execution_count": 8,
   "metadata": {},
   "outputs": [],
   "source": [
    "for command in sqlCommands:\n",
    "    try:\n",
    "        if command.strip():\n",
    "            # print(\"Executing: %s\"%(command))\n",
    "            cursor.execute(command)\n",
    "    except Exception as e:\n",
    "        print(\"An error occured: %s. Rolling back\"%(e))\n",
    "        cursor.execute(\"ROLLBACK\")"
   ]
  },
  {
   "cell_type": "code",
   "execution_count": 9,
   "metadata": {},
   "outputs": [
    {
     "name": "stdout",
     "output_type": "stream",
     "text": [
      "Schemas in the database: [('public',), ('information_schema',), ('pg_catalog',), ('pg_toast',)]\n"
     ]
    }
   ],
   "source": [
    "cursor.execute(\"SELECT schema_name FROM information_schema.schemata;\")\n",
    "schemas = cursor.fetchall()\n",
    "print(\"Schemas in the database:\", schemas)"
   ]
  },
  {
   "cell_type": "code",
   "execution_count": 10,
   "metadata": {},
   "outputs": [
    {
     "name": "stdout",
     "output_type": "stream",
     "text": [
      "Tables in the database: (1, 27, 'Male', 'Arts', 3.18, 8, 'Entrepreneur', 90624.0, 'No', 688, 185, 7.9, 7.6, 'Loan', 'Finance Manager', 156165.0, 'International', 'Entrepreneurship', 'On-Campus', 'Yes')\n"
     ]
    }
   ],
   "source": [
    "cursor.execute(\"SELECT * FROM mba_decision;\")\n",
    "tables = cursor.fetchone()\n",
    "print(\"Tables in the database:\", tables)"
   ]
  },
  {
   "cell_type": "code",
   "execution_count": 11,
   "metadata": {},
   "outputs": [],
   "source": [
    "# Close the connection\n",
    "cursor.close()\n",
    "conn.close()"
   ]
  },
  {
   "cell_type": "code",
   "execution_count": 12,
   "metadata": {},
   "outputs": [],
   "source": [
    "!pip freeze > requirements.txt"
   ]
  },
  {
   "cell_type": "code",
   "execution_count": null,
   "metadata": {},
   "outputs": [],
   "source": []
  }
 ],
 "metadata": {
  "kernelspec": {
   "display_name": "Python 3",
   "language": "python",
   "name": "python3"
  },
  "language_info": {
   "codemirror_mode": {
    "name": "ipython",
    "version": 3
   },
   "file_extension": ".py",
   "mimetype": "text/x-python",
   "name": "python",
   "nbconvert_exporter": "python",
   "pygments_lexer": "ipython3",
   "version": "3.10.12"
  }
 },
 "nbformat": 4,
 "nbformat_minor": 2
}
